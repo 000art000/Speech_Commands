{
 "cells": [
  {
   "cell_type": "code",
   "execution_count": 1,
   "metadata": {},
   "outputs": [],
   "source": [
    "import os \n",
    "from sklearn.neighbors import KNeighborsClassifier\n",
    "#from sklearn.ensemble import AdaBoostClassifier\n",
    "import numpy as np\n",
    "from sklearn.model_selection import StratifiedKFold\n",
    "from sklearn.model_selection import GridSearchCV\n",
    "from sklearn.naive_bayes import GaussianNB\n",
    "\n",
    "import sys\n",
    "sys.path.append('./src')\n",
    "\n",
    "import approche_1_2 as modul_1\n",
    "import segmentation as modul_3"
   ]
  },
  {
   "attachments": {},
   "cell_type": "markdown",
   "metadata": {},
   "source": [
    "# Vérifier la répartition des classes"
   ]
  },
  {
   "cell_type": "code",
   "execution_count": 3,
   "metadata": {},
   "outputs": [],
   "source": [
    "# fonction pour voir la répartition des classes à l'apprentissage\n",
    "def repartition(path_file,data_path):\n",
    "    c={}\n",
    "    l=[]\n",
    "    tot=0\n",
    "    with open(path_file,'r') as fd :\n",
    "        for line in fd :\n",
    "            label=line.split('/')[0]\n",
    "            if not c.get(label):\n",
    "                c[label]=0\n",
    "            c[label]+=1\n",
    "            tot+=1\n",
    "        \n",
    "    for rep in os.listdir(data_path):\n",
    "        if os.path.isdir(rep) and rep!='_background_noise_' and c.get(rep)==0:\n",
    "            l.append(rep)\n",
    "\n",
    "    return c,l,tot\n"
   ]
  },
  {
   "cell_type": "code",
   "execution_count": 4,
   "metadata": {},
   "outputs": [],
   "source": [
    "c,l,tot=repartition('speech_commands_v0.02/validation_list.txt','speech_commands_v0.02')"
   ]
  },
  {
   "cell_type": "code",
   "execution_count": null,
   "metadata": {},
   "outputs": [],
   "source": [
    "l,c"
   ]
  },
  {
   "attachments": {},
   "cell_type": "markdown",
   "metadata": {},
   "source": [
    "# Première approche (remplissage)"
   ]
  },
  {
   "attachments": {},
   "cell_type": "markdown",
   "metadata": {},
   "source": [
    "    Elle consiste à remplire les signal par des valeur il y'a 2 approches\n",
    "    \n",
    "     Dans celle-ci, nous avons opté pour : le remplissage par des 0 les signaux qui ont une longueur plus petite que la taille max\n",
    "    \n",
    "    l'autre approche comme les signal sont echantillonés donc dans le systeme temporel il doivent etre non fini et circulere(exemple sinus,cos) pour qu'il peut etre fini dans le systeme frequentiel et admis un frequence max et peut etre echantiloné correctemet d'apres le theoreme de shanone la frequence d'enchentillonage >= 2* f_max ce qui implique a faire du padding circulaire dans le systeme temporale (rajouter le signal en boucle a la fin du signal tant que il est plus petit du signal max)"
   ]
  },
  {
   "attachments": {},
   "cell_type": "markdown",
   "metadata": {},
   "source": [
    "### BRUTE"
   ]
  },
  {
   "cell_type": "code",
   "execution_count": 52,
   "metadata": {},
   "outputs": [],
   "source": [
    "modul_1.stock_data('speech_commands_v0.02','dataset','brute')"
   ]
  },
  {
   "cell_type": "code",
   "execution_count": 53,
   "metadata": {},
   "outputs": [],
   "source": [
    "modul_1.stock_data('speech_commands_v0.02','dataset','brute',apprentissage=False)"
   ]
  },
  {
   "cell_type": "code",
   "execution_count": 62,
   "metadata": {},
   "outputs": [],
   "source": [
    "x_train,y_train=modul_1.load_data('dataset','brute')\n",
    "x_test,y_test=modul_1.load_data('dataset','brute',apprentissage=False)"
   ]
  },
  {
   "attachments": {},
   "cell_type": "markdown",
   "metadata": {},
   "source": [
    "#### Knn"
   ]
  },
  {
   "cell_type": "code",
   "execution_count": 63,
   "metadata": {},
   "outputs": [],
   "source": [
    "knn_brute=KNeighborsClassifier(n_jobs=-1)\n",
    "parameters=[\n",
    "    {'weights':['distance'],\n",
    "     'n_neighbors': np.arange(5,30,1)\n",
    "    }\n",
    "]\n",
    "#utilisé stratifiedkfold pour avoir une bonne repartition \n",
    "skf = StratifiedKFold(n_splits=5, shuffle=True, random_state=1)\n",
    "grid = GridSearchCV(knn_brute, parameters,cv=skf)\n",
    "\n",
    "modul_1.learning(grid,'resultat','brute',x_train,y_train,x_test,y_test,'knn')"
   ]
  },
  {
   "attachments": {},
   "cell_type": "markdown",
   "metadata": {},
   "source": [
    "#### Naive Bayes"
   ]
  },
  {
   "cell_type": "code",
   "execution_count": 66,
   "metadata": {},
   "outputs": [],
   "source": [
    "param_nb = {'var_smoothing': [1e-9,1e-8,1e-7,1e-6]}\n",
    "_,priors=np.unique(y_train,return_counts=True)\n",
    "priors=priors/priors.sum()\n",
    "grid_search = GridSearchCV(GaussianNB(priors=priors), param_nb, cv=skf,scoring='balanced_accuracy')\n",
    "modul_1.learning(grid_search, 'resultat', 'brute', x_train, y_train, x_test, y_test,'naive_bayes')\n"
   ]
  },
  {
   "attachments": {},
   "cell_type": "markdown",
   "metadata": {},
   "source": [
    "### MFCC"
   ]
  },
  {
   "cell_type": "code",
   "execution_count": 55,
   "metadata": {},
   "outputs": [],
   "source": [
    "modul_1.stock_data('speech_commands_v0.02','dataset','mfcc')"
   ]
  },
  {
   "cell_type": "code",
   "execution_count": 56,
   "metadata": {},
   "outputs": [],
   "source": [
    "modul_1.stock_data('speech_commands_v0.02','dataset','mfcc',apprentissage=False)"
   ]
  },
  {
   "cell_type": "code",
   "execution_count": 67,
   "metadata": {},
   "outputs": [],
   "source": [
    "x_train,y_train=modul_1.load_data('dataset','mfcc')\n",
    "x_test,y_test=modul_1.load_data('dataset','mfcc',apprentissage=False)"
   ]
  },
  {
   "attachments": {},
   "cell_type": "markdown",
   "metadata": {},
   "source": [
    "#### Knn"
   ]
  },
  {
   "cell_type": "code",
   "execution_count": 59,
   "metadata": {},
   "outputs": [],
   "source": [
    "knn_mfcc=KNeighborsClassifier(n_jobs=-1)\n",
    "parameters=[\n",
    "    {'weights':['distance'],\n",
    "     'n_neighbors': np.arange(5,30,1)\n",
    "    }\n",
    "]\n",
    "#utilisé stratifiedkfold pour avoir une bonne repartition \n",
    "skf = StratifiedKFold(n_splits=5, shuffle=True, random_state=1)\n",
    "grid = GridSearchCV(knn_mfcc, parameters,cv=skf)\n",
    "\n",
    "modul_1.learning(grid,'resultat','mfcc',x_train,y_train,x_test,y_test,'knn')"
   ]
  },
  {
   "attachments": {},
   "cell_type": "markdown",
   "metadata": {},
   "source": [
    "#### Naive Bayes"
   ]
  },
  {
   "cell_type": "code",
   "execution_count": 68,
   "metadata": {},
   "outputs": [],
   "source": [
    "param_nb = {'var_smoothing': [1e-9,1e-8,1e-7,1e-6]}\n",
    "_,priors=np.unique(y_train,return_counts=True)\n",
    "priors=priors/priors.sum()\n",
    "grid_search = GridSearchCV(GaussianNB(priors=priors), param_nb, cv=skf,scoring='balanced_accuracy')\n",
    "modul_1.learning(grid_search, 'resultat', 'mfcc', x_train, y_train, x_test, y_test,'naive_bayes')\n"
   ]
  },
  {
   "attachments": {},
   "cell_type": "markdown",
   "metadata": {},
   "source": [
    "### Melspectrogram"
   ]
  },
  {
   "cell_type": "code",
   "execution_count": 69,
   "metadata": {},
   "outputs": [],
   "source": [
    "modul_1.stock_data('speech_commands_v0.02','dataset','melspec')"
   ]
  },
  {
   "cell_type": "code",
   "execution_count": 70,
   "metadata": {},
   "outputs": [],
   "source": [
    "modul_1.stock_data('speech_commands_v0.02','dataset','melspec',apprentissage=False)"
   ]
  },
  {
   "cell_type": "code",
   "execution_count": 71,
   "metadata": {},
   "outputs": [],
   "source": [
    "x_train,y_train=modul_1.load_data('dataset','melspec')\n",
    "x_test,y_test=modul_1.load_data('dataset','melspec',apprentissage=False)"
   ]
  },
  {
   "attachments": {},
   "cell_type": "markdown",
   "metadata": {},
   "source": [
    "#### Knn"
   ]
  },
  {
   "cell_type": "code",
   "execution_count": null,
   "metadata": {},
   "outputs": [],
   "source": [
    "knn_melspec=KNeighborsClassifier(n_jobs=-1)\n",
    "parameters=[\n",
    "    {'weights':['distance'],\n",
    "     'n_neighbors': np.arange(5,30,1)\n",
    "    }\n",
    "]\n",
    "#utilisé stratifiedkfold pour avoir une bonne repartition \n",
    "skf = StratifiedKFold(n_splits=5, shuffle=True, random_state=1)\n",
    "grid = GridSearchCV(knn_melspec, parameters,cv=skf)\n",
    "\n",
    "modul_1.learning(grid,'resultat','melspec',x_train,y_train,x_test,y_test,'knn')"
   ]
  },
  {
   "attachments": {},
   "cell_type": "markdown",
   "metadata": {},
   "source": [
    "#### Naive Bayes"
   ]
  },
  {
   "cell_type": "code",
   "execution_count": 72,
   "metadata": {},
   "outputs": [],
   "source": [
    "param_nb = {'var_smoothing': [1e-9,1e-8,1e-7,1e-6]}\n",
    "_,priors=np.unique(y_train,return_counts=True)\n",
    "priors=priors/priors.sum()\n",
    "grid_search = GridSearchCV(GaussianNB(priors=priors), param_nb, cv=skf,scoring='balanced_accuracy')\n",
    "modul_1.learning(grid_search, 'resultat', 'melspec', x_train, y_train, x_test, y_test,'naive_bayes')"
   ]
  },
  {
   "attachments": {},
   "cell_type": "markdown",
   "metadata": {},
   "source": [
    "### Harmonique"
   ]
  },
  {
   "cell_type": "code",
   "execution_count": 73,
   "metadata": {},
   "outputs": [],
   "source": [
    "modul_1.stock_data('speech_commands_v0.02','dataset','harm')"
   ]
  },
  {
   "cell_type": "code",
   "execution_count": 74,
   "metadata": {},
   "outputs": [],
   "source": [
    "modul_1.stock_data('speech_commands_v0.02','dataset','harm',apprentissage=False)"
   ]
  },
  {
   "cell_type": "code",
   "execution_count": 75,
   "metadata": {},
   "outputs": [],
   "source": [
    "x_train,y_train=modul_1.load_data('dataset','harm')\n",
    "x_test,y_test=modul_1.load_data('dataset','harm',apprentissage=False)"
   ]
  },
  {
   "attachments": {},
   "cell_type": "markdown",
   "metadata": {},
   "source": [
    "#### Knn"
   ]
  },
  {
   "cell_type": "code",
   "execution_count": 4,
   "metadata": {},
   "outputs": [],
   "source": [
    "knn_harm=KNeighborsClassifier(n_jobs=-1)\n",
    "parameters=[\n",
    "    {'weights':['distance'],\n",
    "     'n_neighbors': np.arange(5,30,1)\n",
    "    }\n",
    "]\n",
    "#utilisé stratifiedkfold pour avoir une bonne repartition \n",
    "skf = StratifiedKFold(n_splits=5, shuffle=True, random_state=1)\n",
    "grid = GridSearchCV(knn_harm, parameters,cv=skf)\n",
    "\n",
    "modul_1.learning(grid,'resultat','harm',x_train,y_train,x_test,y_test,'knn')"
   ]
  },
  {
   "attachments": {},
   "cell_type": "markdown",
   "metadata": {},
   "source": [
    "#### Naive Bayes"
   ]
  },
  {
   "cell_type": "code",
   "execution_count": 76,
   "metadata": {},
   "outputs": [],
   "source": [
    "param_nb = {'var_smoothing': [1e-9,1e-8,1e-7,1e-6]}\n",
    "_,priors=np.unique(y_train,return_counts=True)\n",
    "priors=priors/priors.sum()\n",
    "grid_search = GridSearchCV(GaussianNB(priors=priors), param_nb, cv=skf,scoring='balanced_accuracy')\n",
    "modul_1.learning(grid_search, 'resultat', 'harm', x_train, y_train, x_test, y_test,'naive_bayes')"
   ]
  },
  {
   "attachments": {},
   "cell_type": "markdown",
   "metadata": {},
   "source": [
    "### Percussive"
   ]
  },
  {
   "cell_type": "code",
   "execution_count": 77,
   "metadata": {},
   "outputs": [],
   "source": [
    "modul_1.stock_data('speech_commands_v0.02','dataset','perc')"
   ]
  },
  {
   "cell_type": "code",
   "execution_count": 78,
   "metadata": {},
   "outputs": [],
   "source": [
    "modul_1.stock_data('speech_commands_v0.02','dataset','perc',apprentissage=False)"
   ]
  },
  {
   "cell_type": "code",
   "execution_count": 79,
   "metadata": {},
   "outputs": [],
   "source": [
    "x_train,y_train=modul_1.load_data('dataset','perc')\n",
    "x_test,y_test=modul_1.load_data('dataset','perc',apprentissage=False)"
   ]
  },
  {
   "attachments": {},
   "cell_type": "markdown",
   "metadata": {},
   "source": [
    "#### Knn"
   ]
  },
  {
   "cell_type": "code",
   "execution_count": 4,
   "metadata": {},
   "outputs": [],
   "source": [
    "knn_perc=KNeighborsClassifier(n_jobs=-1)\n",
    "parameters=[\n",
    "    {'weights':['distance'],\n",
    "     'n_neighbors': np.arange(5,30,1)\n",
    "    }\n",
    "]\n",
    "#utilisé stratifiedkfold pour avoir une bonne repartition \n",
    "skf = StratifiedKFold(n_splits=5, shuffle=True, random_state=1)\n",
    "grid = GridSearchCV(knn_perc, parameters,cv=skf)\n",
    "\n",
    "modul_1.learning(grid,'resultat','perc',x_train,y_train,x_test,y_test,'knn')"
   ]
  },
  {
   "attachments": {},
   "cell_type": "markdown",
   "metadata": {},
   "source": [
    "#### Naives Bayes"
   ]
  },
  {
   "cell_type": "code",
   "execution_count": 80,
   "metadata": {},
   "outputs": [],
   "source": [
    "param_nb = {'var_smoothing': [1e-9,1e-8,1e-7,1e-6]}\n",
    "\n",
    "_,priors=np.unique(y_train,return_counts=True)\n",
    "priors=priors/priors.sum()\n",
    "\n",
    "grid_search = GridSearchCV(GaussianNB(priors=priors), param_nb, cv=skf,scoring='balanced_accuracy')\n",
    "modul_1.learning(grid_search, 'resultat', 'perc', x_train, y_train, x_test, y_test,'naive_bayes')"
   ]
  },
  {
   "attachments": {},
   "cell_type": "markdown",
   "metadata": {},
   "source": [
    "## Affichage des résultats "
   ]
  },
  {
   "cell_type": "code",
   "execution_count": 135,
   "metadata": {},
   "outputs": [
    {
     "name": "stdout",
     "output_type": "stream",
     "text": [
      "  representation       modele  score_app  score_test\n",
      "0           mfcc          knn   0.432621    0.385396\n",
      "1           mfcc  naive_bayes   0.306813    0.281878\n",
      "2          brute          knn   0.054904    0.047610\n",
      "3          brute  naive_bayes   0.043856    0.043919\n",
      "4        melspec          knn   0.131350    0.094926\n",
      "5        melspec  naive_bayes   0.142161    0.119081\n",
      "6           harm          knn   0.056808    0.044282\n",
      "7           harm  naive_bayes   0.047774    0.051783\n",
      "8           perc          knn   0.058310    0.052324\n",
      "9           perc  naive_bayes   0.043661    0.043286\n"
     ]
    }
   ],
   "source": [
    "affichage(\"max\")"
   ]
  },
  {
   "attachments": {},
   "cell_type": "markdown",
   "metadata": {},
   "source": [
    "# 2ème approche (remise à l'echelle par suppression)"
   ]
  },
  {
   "attachments": {},
   "cell_type": "markdown",
   "metadata": {},
   "source": [
    "    elle consiste à mettre les signal à la taille du plus petit signal "
   ]
  },
  {
   "attachments": {},
   "cell_type": "markdown",
   "metadata": {},
   "source": [
    "### BRUTE"
   ]
  },
  {
   "cell_type": "code",
   "execution_count": 81,
   "metadata": {},
   "outputs": [],
   "source": [
    "modul_1.stock_data('speech_commands_v0.02','dataset','brute',approche=False)"
   ]
  },
  {
   "cell_type": "code",
   "execution_count": 82,
   "metadata": {},
   "outputs": [],
   "source": [
    "modul_1.stock_data('speech_commands_v0.02','dataset','brute',apprentissage=False,approche=False)"
   ]
  },
  {
   "cell_type": "code",
   "execution_count": 83,
   "metadata": {},
   "outputs": [],
   "source": [
    "x_train,y_train=modul_1.load_data('dataset','brute',approche=False)\n",
    "x_test,y_test=modul_1.load_data('dataset','brute',apprentissage=False,approche=False)"
   ]
  },
  {
   "attachments": {},
   "cell_type": "markdown",
   "metadata": {},
   "source": [
    "#### knn"
   ]
  },
  {
   "cell_type": "code",
   "execution_count": 5,
   "metadata": {},
   "outputs": [],
   "source": [
    "knn_brute=KNeighborsClassifier(n_jobs=-1)\n",
    "parameters=[\n",
    "    {'weights':['distance'],\n",
    "     'n_neighbors': np.arange(5,30,1)\n",
    "    }\n",
    "]\n",
    "#utilisé stratifiedkfold pour avoir une bonne repartition \n",
    "skf = StratifiedKFold(n_splits=5, shuffle=True, random_state=1)\n",
    "grid = GridSearchCV(knn_brute, parameters,cv=skf)\n",
    "\n",
    "modul_1.learning(grid,'resultat','brute',x_train,y_train,x_test,y_test,'knn',approche='min')"
   ]
  },
  {
   "attachments": {},
   "cell_type": "markdown",
   "metadata": {},
   "source": [
    "#### Naive Bayes"
   ]
  },
  {
   "cell_type": "code",
   "execution_count": 84,
   "metadata": {},
   "outputs": [],
   "source": [
    "param_nb = {'var_smoothing': [1e-9,1e-8,1e-7,1e-6]}\n",
    "\n",
    "_,priors=np.unique(y_train,return_counts=True)\n",
    "priors=priors/priors.sum()\n",
    "\n",
    "grid_search = GridSearchCV(GaussianNB(priors=priors), param_nb, cv=skf,scoring='balanced_accuracy')\n",
    "modul_1.learning(grid_search, 'resultat', 'brute', x_train, y_train, x_test, y_test,'naive_bayes',approche='min')"
   ]
  },
  {
   "attachments": {},
   "cell_type": "markdown",
   "metadata": {},
   "source": [
    "### MFCC"
   ]
  },
  {
   "cell_type": "code",
   "execution_count": 85,
   "metadata": {},
   "outputs": [],
   "source": [
    "modul_1.stock_data('speech_commands_v0.02','dataset','mfcc',approche=False)"
   ]
  },
  {
   "cell_type": "code",
   "execution_count": 86,
   "metadata": {},
   "outputs": [],
   "source": [
    "modul_1.stock_data('speech_commands_v0.02','dataset','mfcc',apprentissage=False,approche=False)"
   ]
  },
  {
   "cell_type": "code",
   "execution_count": 87,
   "metadata": {},
   "outputs": [],
   "source": [
    "x_train,y_train=modul_1.load_data('dataset','mfcc',approche=False)\n",
    "x_test,y_test=modul_1.load_data('dataset','mfcc',apprentissage=False,approche=False)"
   ]
  },
  {
   "attachments": {},
   "cell_type": "markdown",
   "metadata": {},
   "source": [
    "#### Knn"
   ]
  },
  {
   "cell_type": "code",
   "execution_count": 11,
   "metadata": {},
   "outputs": [],
   "source": [
    "knn_mfcc=KNeighborsClassifier(n_jobs=-1)\n",
    "parameters=[\n",
    "    {'weights':['distance'],\n",
    "     'n_neighbors': np.arange(5,30,1)\n",
    "    }\n",
    "]\n",
    "#utilisé stratifiedkfold pour avoir une bonne repartition \n",
    "skf = StratifiedKFold(n_splits=5, shuffle=True, random_state=1)\n",
    "grid = GridSearchCV(knn_mfcc, parameters,cv=skf)\n",
    "\n",
    "modul_1.learning(grid,'resultat','mfcc',x_train,y_train,x_test,y_test,'knn',approche='min')"
   ]
  },
  {
   "attachments": {},
   "cell_type": "markdown",
   "metadata": {},
   "source": [
    "#### Naives Bayes"
   ]
  },
  {
   "cell_type": "code",
   "execution_count": 88,
   "metadata": {},
   "outputs": [],
   "source": [
    "param_nb = {'var_smoothing': [1e-9,1e-8,1e-7,1e-6]}\n",
    "\n",
    "_,priors=np.unique(y_train,return_counts=True)\n",
    "priors=priors/priors.sum()\n",
    "\n",
    "grid_search = GridSearchCV(GaussianNB(priors=priors), param_nb, cv=skf,scoring='balanced_accuracy')\n",
    "modul_1.learning(grid_search, 'resultat', 'mfcc', x_train, y_train, x_test, y_test,'naive_bayes',approche='min')"
   ]
  },
  {
   "attachments": {},
   "cell_type": "markdown",
   "metadata": {},
   "source": [
    "### Melspec"
   ]
  },
  {
   "cell_type": "code",
   "execution_count": 89,
   "metadata": {},
   "outputs": [],
   "source": [
    "modul_1.stock_data('speech_commands_v0.02','dataset','melspec',approche=False)"
   ]
  },
  {
   "cell_type": "code",
   "execution_count": 90,
   "metadata": {},
   "outputs": [],
   "source": [
    "modul_1.stock_data('speech_commands_v0.02','dataset','melspec',apprentissage=False,approche=False)"
   ]
  },
  {
   "cell_type": "code",
   "execution_count": 91,
   "metadata": {},
   "outputs": [],
   "source": [
    "x_train,y_train=modul_1.load_data('dataset','melspec',approche=False)\n",
    "x_test,y_test=modul_1.load_data('dataset','melspec',apprentissage=False,approche=False)"
   ]
  },
  {
   "attachments": {},
   "cell_type": "markdown",
   "metadata": {},
   "source": [
    "#### Knn"
   ]
  },
  {
   "cell_type": "code",
   "execution_count": 15,
   "metadata": {},
   "outputs": [],
   "source": [
    "knn_melspec=KNeighborsClassifier(n_jobs=-1)\n",
    "parameters=[\n",
    "    {'weights':['distance'],\n",
    "     'n_neighbors': np.arange(5,30,1)\n",
    "    }\n",
    "]\n",
    "#utilisé stratifiedkfold pour avoir une bonne repartition \n",
    "skf = StratifiedKFold(n_splits=5, shuffle=True, random_state=1)\n",
    "grid = GridSearchCV(knn_melspec, parameters,cv=skf)\n",
    "\n",
    "modul_1.learning(grid,'resultat','melspec',x_train,y_train,x_test,y_test,'knn',approche='min')"
   ]
  },
  {
   "attachments": {},
   "cell_type": "markdown",
   "metadata": {},
   "source": [
    "#### Naives Bayes"
   ]
  },
  {
   "cell_type": "code",
   "execution_count": 92,
   "metadata": {},
   "outputs": [],
   "source": [
    "param_nb = {'var_smoothing': [1e-9,1e-8,1e-7,1e-6]}\n",
    "\n",
    "_,priors=np.unique(y_train,return_counts=True)\n",
    "priors=priors/priors.sum()\n",
    "\n",
    "grid_search = GridSearchCV(GaussianNB(priors=priors), param_nb, cv=skf,scoring='balanced_accuracy')\n",
    "modul_1.learning(grid_search, 'resultat', 'melspec', x_train, y_train, x_test, y_test,'naive_bayes', approche='min')"
   ]
  },
  {
   "attachments": {},
   "cell_type": "markdown",
   "metadata": {},
   "source": [
    "### Harmonique"
   ]
  },
  {
   "cell_type": "code",
   "execution_count": 93,
   "metadata": {},
   "outputs": [],
   "source": [
    "modul_1.stock_data('speech_commands_v0.02','dataset','harm',approche=False)"
   ]
  },
  {
   "cell_type": "code",
   "execution_count": 94,
   "metadata": {},
   "outputs": [],
   "source": [
    "modul_1.stock_data('speech_commands_v0.02','dataset','harm',apprentissage=False,approche=False)"
   ]
  },
  {
   "cell_type": "code",
   "execution_count": 95,
   "metadata": {},
   "outputs": [],
   "source": [
    "x_train,y_train=modul_1.load_data('dataset','harm',approche=False)\n",
    "x_test,y_test=modul_1.load_data('dataset','harm',apprentissage=False,approche=False)"
   ]
  },
  {
   "attachments": {},
   "cell_type": "markdown",
   "metadata": {},
   "source": [
    "#### Knn"
   ]
  },
  {
   "cell_type": "code",
   "execution_count": 21,
   "metadata": {},
   "outputs": [],
   "source": [
    "knn_harm=KNeighborsClassifier(n_jobs=-1)\n",
    "parameters=[\n",
    "    {'weights':['distance'],\n",
    "     'n_neighbors': np.arange(5,30,1)\n",
    "    }\n",
    "]\n",
    "#utilisé stratifiedkfold pour avoir une bonne repartition \n",
    "skf = StratifiedKFold(n_splits=5, shuffle=True, random_state=1)\n",
    "grid = GridSearchCV(knn_harm, parameters,cv=skf)\n",
    "\n",
    "modul_1.learning(grid,'resultat','harm',x_train,y_train,x_test,y_test,'knn',approche='min')"
   ]
  },
  {
   "attachments": {},
   "cell_type": "markdown",
   "metadata": {},
   "source": [
    "#### Naives Bayes"
   ]
  },
  {
   "cell_type": "code",
   "execution_count": 96,
   "metadata": {},
   "outputs": [],
   "source": [
    "param_nb = {'var_smoothing': [1e-9,1e-8,1e-7,1e-6]}\n",
    "\n",
    "_,priors=np.unique(y_train,return_counts=True)\n",
    "priors=priors/priors.sum()\n",
    "\n",
    "grid_search = GridSearchCV(GaussianNB(priors=priors), param_nb, cv=skf,scoring='balanced_accuracy')\n",
    "modul_1.learning(grid_search, 'resultat', 'harm', x_train, y_train, x_test, y_test,'naive_bayes',approche='min')"
   ]
  },
  {
   "attachments": {},
   "cell_type": "markdown",
   "metadata": {},
   "source": [
    "### Percussive"
   ]
  },
  {
   "cell_type": "code",
   "execution_count": 97,
   "metadata": {},
   "outputs": [],
   "source": [
    "modul_1.stock_data('speech_commands_v0.02','dataset','perc',approche=False)"
   ]
  },
  {
   "cell_type": "code",
   "execution_count": 98,
   "metadata": {},
   "outputs": [],
   "source": [
    "modul_1.stock_data('speech_commands_v0.02','dataset','perc',apprentissage=False,approche=False)"
   ]
  },
  {
   "cell_type": "code",
   "execution_count": 99,
   "metadata": {},
   "outputs": [],
   "source": [
    "x_train,y_train=modul_1.load_data('dataset','perc',approche=False)\n",
    "x_test,y_test=modul_1.load_data('dataset','perc',apprentissage=False,approche=False)"
   ]
  },
  {
   "attachments": {},
   "cell_type": "markdown",
   "metadata": {},
   "source": [
    "#### Knn"
   ]
  },
  {
   "cell_type": "code",
   "execution_count": 26,
   "metadata": {},
   "outputs": [],
   "source": [
    "knn_perc=KNeighborsClassifier(n_jobs=-1)\n",
    "parameters=[\n",
    "    {'weights':['distance'],\n",
    "     'n_neighbors': np.arange(5,30,1)\n",
    "    }\n",
    "]\n",
    "#utilisé stratifiedkfold pour avoir une bonne repartition \n",
    "skf = StratifiedKFold(n_splits=5, shuffle=True, random_state=1)\n",
    "grid = GridSearchCV(knn_perc, parameters,cv=skf)\n",
    "\n",
    "modul_1.learning(grid,'resultat','perc',x_train,y_train,x_test,y_test,'knn',approche='min')"
   ]
  },
  {
   "attachments": {},
   "cell_type": "markdown",
   "metadata": {},
   "source": [
    "#### Naives Bayes"
   ]
  },
  {
   "cell_type": "code",
   "execution_count": 100,
   "metadata": {},
   "outputs": [],
   "source": [
    "param_nb = {'var_smoothing': [1e-9,1e-8,1e-7,1e-6]}\n",
    "\n",
    "_,priors=np.unique(y_train,return_counts=True)\n",
    "priors=priors/priors.sum()\n",
    "\n",
    "grid_search = GridSearchCV(GaussianNB(priors=priors), param_nb, cv=skf,scoring='balanced_accuracy')\n",
    "modul_1.learning(grid_search, 'resultat', 'perc', x_train, y_train, x_test, y_test,'naive_bayes',approche='min')"
   ]
  },
  {
   "attachments": {},
   "cell_type": "markdown",
   "metadata": {},
   "source": [
    "## Affichage des résultats "
   ]
  },
  {
   "cell_type": "code",
   "execution_count": 133,
   "metadata": {},
   "outputs": [
    {
     "name": "stdout",
     "output_type": "stream",
     "text": [
      "  representation       modele  score_app  score_test\n",
      "0           mfcc          knn   0.178138    0.156750\n",
      "1           mfcc  naive_bayes   0.113426    0.114172\n",
      "2          brute          knn   0.058210    0.043054\n",
      "3          brute  naive_bayes   0.034158    0.038125\n",
      "4        melspec          knn   0.089269    0.070060\n",
      "5        melspec  naive_bayes   0.074049    0.069694\n",
      "6           harm          knn   0.039976    0.034930\n",
      "7           harm  naive_bayes   0.035363    0.037496\n",
      "8           perc          knn   0.054002    0.046550\n",
      "9           perc  naive_bayes   0.033864    0.035845\n"
     ]
    }
   ],
   "source": [
    "affichage(\"min\")"
   ]
  },
  {
   "attachments": {},
   "cell_type": "markdown",
   "metadata": {},
   "source": [
    "# 3eme aproche (segmentation)"
   ]
  },
  {
   "attachments": {},
   "cell_type": "markdown",
   "metadata": {},
   "source": [
    "#### segmentation (fenetre 500 , taille chavechement 200)"
   ]
  },
  {
   "cell_type": "code",
   "execution_count": null,
   "metadata": {},
   "outputs": [],
   "source": [
    "size_w,chauvechement=500,200"
   ]
  },
  {
   "attachments": {},
   "cell_type": "markdown",
   "metadata": {},
   "source": [
    "#### BRUTE"
   ]
  },
  {
   "cell_type": "code",
   "execution_count": null,
   "metadata": {},
   "outputs": [],
   "source": [
    "#sans chauvechement\n",
    "modul_3.stock_data('speech_commands_v0.02','dataset','brute',size_w=size_w)\n",
    "modul_3.stock_data('speech_commands_v0.02','dataset','brute',size_w=size_w,apprentissage=False)\n",
    "\n",
    "#avec chauvechement\n",
    "modul_3.stock_data('speech_commands_v0.02','dataset','brute',size_w=size_w,chauvechement=chauvechement)\n",
    "modul_3.stock_data('speech_commands_v0.02','dataset','brute',size_w=size_w,apprentissage=False,chauvechement=chauvechement)"
   ]
  },
  {
   "cell_type": "code",
   "execution_count": null,
   "metadata": {},
   "outputs": [],
   "source": [
    "modul_3.lanch('dataset/segmentation/500','resultat/segmentation/500','brute')"
   ]
  },
  {
   "attachments": {},
   "cell_type": "markdown",
   "metadata": {},
   "source": [
    "### HARM"
   ]
  },
  {
   "cell_type": "code",
   "execution_count": null,
   "metadata": {},
   "outputs": [],
   "source": [
    "#sans chauvechement\n",
    "modul_3.stock_data('speech_commands_v0.02','dataset','harm',size_w=size_w)\n",
    "modul_3.stock_data('speech_commands_v0.02','dataset','harm',size_w=size_w,apprentissage=False)\n",
    "\n",
    "#avec chauvechement\n",
    "modul_3.stock_data('speech_commands_v0.02','dataset','harm',size_w=size_w,chauvechement=chauvechement)\n",
    "modul_3.stock_data('speech_commands_v0.02','dataset','harm',size_w=size_w,apprentissage=False,chauvechement=chauvechement)"
   ]
  },
  {
   "cell_type": "code",
   "execution_count": null,
   "metadata": {},
   "outputs": [],
   "source": [
    "modul_3.lanch('dataset/segmentation/500','resultat/segmentation/500','harm')"
   ]
  },
  {
   "attachments": {},
   "cell_type": "markdown",
   "metadata": {},
   "source": [
    "### PERC"
   ]
  },
  {
   "cell_type": "code",
   "execution_count": null,
   "metadata": {},
   "outputs": [],
   "source": [
    "#sans chauvechement\n",
    "modul_3.stock_data('speech_commands_v0.02','dataset','perc',size_w=size_w)\n",
    "modul_3.stock_data('speech_commands_v0.02','dataset','perc',size_w=size_w,apprentissage=False)\n",
    "\n",
    "#avec chauvechement\n",
    "modul_3.stock_data('speech_commands_v0.02','dataset','perc',size_w=size_w,chauvechement=chauvechement)\n",
    "modul_3.stock_data('speech_commands_v0.02','dataset','perc',size_w=size_w,apprentissage=False,chauvechement=chauvechement)"
   ]
  },
  {
   "cell_type": "code",
   "execution_count": null,
   "metadata": {},
   "outputs": [],
   "source": [
    "modul_3.lanch('dataset/segmentation/500','resultat/segmentation/500','perc')"
   ]
  },
  {
   "attachments": {},
   "cell_type": "markdown",
   "metadata": {},
   "source": [
    "### MFCC"
   ]
  },
  {
   "cell_type": "code",
   "execution_count": null,
   "metadata": {},
   "outputs": [],
   "source": [
    "#sans chauvechement\n",
    "modul_3.stock_data('speech_commands_v0.02','dataset','mfcc',size_w=size_w)\n",
    "modul_3.stock_data('speech_commands_v0.02','dataset','mfcc',size_w=size_w,apprentissage=False)\n",
    "\n",
    "#avec chauvechement\n",
    "modul_3.stock_data('speech_commands_v0.02','dataset','mfcc',size_w=size_w,chauvechement=chauvechement)\n",
    "modul_3.stock_data('speech_commands_v0.02','dataset','mfcc',size_w=size_w,apprentissage=False,chauvechement=chauvechement)"
   ]
  },
  {
   "cell_type": "code",
   "execution_count": null,
   "metadata": {},
   "outputs": [],
   "source": [
    "modul_3.lanch('dataset/segmentation/500','resultat/segmentation/500','mfcc')"
   ]
  },
  {
   "attachments": {},
   "cell_type": "markdown",
   "metadata": {},
   "source": [
    "### MELSPEC"
   ]
  },
  {
   "cell_type": "code",
   "execution_count": null,
   "metadata": {},
   "outputs": [],
   "source": [
    "#sans chauvechement\n",
    "modul_3.stock_data('speech_commands_v0.02','dataset','melspec',size_w=size_w)\n",
    "modul_3.stock_data('speech_commands_v0.02','dataset','melspec',size_w=size_w,apprentissage=False)\n",
    "\n",
    "#avec chauvechement\n",
    "modul_3.stock_data('speech_commands_v0.02','dataset','melspec',size_w=size_w,chauvechement=chauvechement)\n",
    "modul_3.stock_data('speech_commands_v0.02','dataset','melspec',size_w=size_w,apprentissage=False,chauvechement=chauvechement)"
   ]
  },
  {
   "cell_type": "code",
   "execution_count": null,
   "metadata": {},
   "outputs": [],
   "source": [
    "modul_3.lanch('dataset/segmentation/500','resultat/segmentation/500','melspec')"
   ]
  },
  {
   "attachments": {},
   "cell_type": "markdown",
   "metadata": {},
   "source": [
    "### SPEC"
   ]
  },
  {
   "attachments": {},
   "cell_type": "markdown",
   "metadata": {},
   "source": [
    "    c'etait abandonner car c'est infesaible "
   ]
  },
  {
   "attachments": {},
   "cell_type": "markdown",
   "metadata": {},
   "source": [
    "### Resultat"
   ]
  },
  {
   "cell_type": "code",
   "execution_count": 4,
   "metadata": {},
   "outputs": [
    {
     "data": {
      "text/html": [
       "<div>\n",
       "<style scoped>\n",
       "    .dataframe tbody tr th:only-of-type {\n",
       "        vertical-align: middle;\n",
       "    }\n",
       "\n",
       "    .dataframe tbody tr th {\n",
       "        vertical-align: top;\n",
       "    }\n",
       "\n",
       "    .dataframe thead th {\n",
       "        text-align: right;\n",
       "    }\n",
       "</style>\n",
       "<table border=\"1\" class=\"dataframe\">\n",
       "  <thead>\n",
       "    <tr style=\"text-align: right;\">\n",
       "      <th></th>\n",
       "      <th>representation</th>\n",
       "      <th>modele</th>\n",
       "      <th>chauvechement</th>\n",
       "      <th>score_app</th>\n",
       "      <th>score_test</th>\n",
       "    </tr>\n",
       "  </thead>\n",
       "  <tbody>\n",
       "    <tr>\n",
       "      <th>0</th>\n",
       "      <td>mfcc</td>\n",
       "      <td>knn</td>\n",
       "      <td>non</td>\n",
       "      <td>0.431872</td>\n",
       "      <td>0.202107</td>\n",
       "    </tr>\n",
       "    <tr>\n",
       "      <th>1</th>\n",
       "      <td>mfcc</td>\n",
       "      <td>knn</td>\n",
       "      <td>oui</td>\n",
       "      <td>0.476216</td>\n",
       "      <td>0.259825</td>\n",
       "    </tr>\n",
       "    <tr>\n",
       "      <th>2</th>\n",
       "      <td>mfcc</td>\n",
       "      <td>nb</td>\n",
       "      <td>non</td>\n",
       "      <td>0.230539</td>\n",
       "      <td>0.195352</td>\n",
       "    </tr>\n",
       "    <tr>\n",
       "      <th>3</th>\n",
       "      <td>mfcc</td>\n",
       "      <td>nb</td>\n",
       "      <td>oui</td>\n",
       "      <td>0.298305</td>\n",
       "      <td>0.257068</td>\n",
       "    </tr>\n",
       "    <tr>\n",
       "      <th>4</th>\n",
       "      <td>brute</td>\n",
       "      <td>knn</td>\n",
       "      <td>non</td>\n",
       "      <td>0.166586</td>\n",
       "      <td>0.039221</td>\n",
       "    </tr>\n",
       "    <tr>\n",
       "      <th>5</th>\n",
       "      <td>brute</td>\n",
       "      <td>knn</td>\n",
       "      <td>oui</td>\n",
       "      <td>0.174094</td>\n",
       "      <td>0.040559</td>\n",
       "    </tr>\n",
       "    <tr>\n",
       "      <th>6</th>\n",
       "      <td>brute</td>\n",
       "      <td>nb</td>\n",
       "      <td>non</td>\n",
       "      <td>0.061799</td>\n",
       "      <td>0.043940</td>\n",
       "    </tr>\n",
       "    <tr>\n",
       "      <th>7</th>\n",
       "      <td>brute</td>\n",
       "      <td>nb</td>\n",
       "      <td>oui</td>\n",
       "      <td>0.056066</td>\n",
       "      <td>0.037342</td>\n",
       "    </tr>\n",
       "    <tr>\n",
       "      <th>8</th>\n",
       "      <td>melspec</td>\n",
       "      <td>knn</td>\n",
       "      <td>non</td>\n",
       "      <td>0.284882</td>\n",
       "      <td>0.069738</td>\n",
       "    </tr>\n",
       "    <tr>\n",
       "      <th>9</th>\n",
       "      <td>melspec</td>\n",
       "      <td>knn</td>\n",
       "      <td>oui</td>\n",
       "      <td>0.314507</td>\n",
       "      <td>0.076545</td>\n",
       "    </tr>\n",
       "    <tr>\n",
       "      <th>10</th>\n",
       "      <td>melspec</td>\n",
       "      <td>nb</td>\n",
       "      <td>non</td>\n",
       "      <td>0.095401</td>\n",
       "      <td>0.063729</td>\n",
       "    </tr>\n",
       "    <tr>\n",
       "      <th>11</th>\n",
       "      <td>melspec</td>\n",
       "      <td>nb</td>\n",
       "      <td>oui</td>\n",
       "      <td>0.119846</td>\n",
       "      <td>0.076350</td>\n",
       "    </tr>\n",
       "    <tr>\n",
       "      <th>12</th>\n",
       "      <td>harm</td>\n",
       "      <td>knn</td>\n",
       "      <td>non</td>\n",
       "      <td>0.158431</td>\n",
       "      <td>0.035112</td>\n",
       "    </tr>\n",
       "    <tr>\n",
       "      <th>13</th>\n",
       "      <td>harm</td>\n",
       "      <td>knn</td>\n",
       "      <td>oui</td>\n",
       "      <td>0.193406</td>\n",
       "      <td>0.036683</td>\n",
       "    </tr>\n",
       "    <tr>\n",
       "      <th>14</th>\n",
       "      <td>harm</td>\n",
       "      <td>nb</td>\n",
       "      <td>non</td>\n",
       "      <td>0.059148</td>\n",
       "      <td>0.048579</td>\n",
       "    </tr>\n",
       "    <tr>\n",
       "      <th>15</th>\n",
       "      <td>harm</td>\n",
       "      <td>nb</td>\n",
       "      <td>oui</td>\n",
       "      <td>0.056659</td>\n",
       "      <td>0.044476</td>\n",
       "    </tr>\n",
       "    <tr>\n",
       "      <th>16</th>\n",
       "      <td>perc</td>\n",
       "      <td>knn</td>\n",
       "      <td>non</td>\n",
       "      <td>0.224957</td>\n",
       "      <td>0.040368</td>\n",
       "    </tr>\n",
       "    <tr>\n",
       "      <th>17</th>\n",
       "      <td>perc</td>\n",
       "      <td>knn</td>\n",
       "      <td>oui</td>\n",
       "      <td>0.160810</td>\n",
       "      <td>0.044093</td>\n",
       "    </tr>\n",
       "    <tr>\n",
       "      <th>18</th>\n",
       "      <td>perc</td>\n",
       "      <td>nb</td>\n",
       "      <td>non</td>\n",
       "      <td>0.056907</td>\n",
       "      <td>0.038894</td>\n",
       "    </tr>\n",
       "    <tr>\n",
       "      <th>19</th>\n",
       "      <td>perc</td>\n",
       "      <td>nb</td>\n",
       "      <td>oui</td>\n",
       "      <td>0.058176</td>\n",
       "      <td>0.041491</td>\n",
       "    </tr>\n",
       "  </tbody>\n",
       "</table>\n",
       "</div>"
      ],
      "text/plain": [
       "   representation modele chauvechement  score_app  score_test\n",
       "0            mfcc    knn           non   0.431872    0.202107\n",
       "1            mfcc    knn           oui   0.476216    0.259825\n",
       "2            mfcc     nb           non   0.230539    0.195352\n",
       "3            mfcc     nb           oui   0.298305    0.257068\n",
       "4           brute    knn           non   0.166586    0.039221\n",
       "5           brute    knn           oui   0.174094    0.040559\n",
       "6           brute     nb           non   0.061799    0.043940\n",
       "7           brute     nb           oui   0.056066    0.037342\n",
       "8         melspec    knn           non   0.284882    0.069738\n",
       "9         melspec    knn           oui   0.314507    0.076545\n",
       "10        melspec     nb           non   0.095401    0.063729\n",
       "11        melspec     nb           oui   0.119846    0.076350\n",
       "12           harm    knn           non   0.158431    0.035112\n",
       "13           harm    knn           oui   0.193406    0.036683\n",
       "14           harm     nb           non   0.059148    0.048579\n",
       "15           harm     nb           oui   0.056659    0.044476\n",
       "16           perc    knn           non   0.224957    0.040368\n",
       "17           perc    knn           oui   0.160810    0.044093\n",
       "18           perc     nb           non   0.056907    0.038894\n",
       "19           perc     nb           oui   0.058176    0.041491"
      ]
     },
     "execution_count": 4,
     "metadata": {},
     "output_type": "execute_result"
    }
   ],
   "source": [
    "modul_3.affichage('500')"
   ]
  },
  {
   "attachments": {},
   "cell_type": "markdown",
   "metadata": {},
   "source": [
    "#### segmentation (fenetre 200 , taille chavechement 100)"
   ]
  },
  {
   "cell_type": "code",
   "execution_count": 2,
   "metadata": {},
   "outputs": [],
   "source": [
    "size_w,chauvechement=200,100"
   ]
  },
  {
   "attachments": {},
   "cell_type": "markdown",
   "metadata": {},
   "source": [
    "#### BRUTE"
   ]
  },
  {
   "cell_type": "code",
   "execution_count": null,
   "metadata": {},
   "outputs": [],
   "source": [
    "#sans chauvechement\n",
    "modul_3.stock_data('speech_commands_v0.02','dataset','brute',size_w=size_w)\n",
    "modul_3.stock_data('speech_commands_v0.02','dataset','brute',size_w=size_w,apprentissage=False)\n",
    "\n",
    "#avec chauvechement\n",
    "modul_3.stock_data('speech_commands_v0.02','dataset','brute',size_w=size_w,chauvechement=chauvechement)\n",
    "modul_3.stock_data('speech_commands_v0.02','dataset','brute',size_w=size_w,apprentissage=False,chauvechement=chauvechement)"
   ]
  },
  {
   "cell_type": "code",
   "execution_count": null,
   "metadata": {},
   "outputs": [],
   "source": [
    "modul_3.lanch('dataset/segmentation/200','resultat/segmentation/200','brute')"
   ]
  },
  {
   "attachments": {},
   "cell_type": "markdown",
   "metadata": {},
   "source": [
    "### HARM"
   ]
  },
  {
   "cell_type": "code",
   "execution_count": null,
   "metadata": {},
   "outputs": [],
   "source": [
    "#sans chauvechement\n",
    "modul_3.stock_data('speech_commands_v0.02','dataset','harm',size_w=size_w)\n",
    "modul_3.stock_data('speech_commands_v0.02','dataset','harm',size_w=size_w,apprentissage=False)\n",
    "\n",
    "#avec chauvechement\n",
    "modul_3.stock_data('speech_commands_v0.02','dataset','harm',size_w=size_w,chauvechement=chauvechement)\n",
    "modul_3.stock_data('speech_commands_v0.02','dataset','harm',size_w=size_w,apprentissage=False,chauvechement=chauvechement)"
   ]
  },
  {
   "cell_type": "code",
   "execution_count": null,
   "metadata": {},
   "outputs": [],
   "source": [
    "modul_3.lanch('dataset/segmentation/200','resultat/segmentation/200','harm')"
   ]
  },
  {
   "attachments": {},
   "cell_type": "markdown",
   "metadata": {},
   "source": [
    "### PERC"
   ]
  },
  {
   "cell_type": "code",
   "execution_count": null,
   "metadata": {},
   "outputs": [],
   "source": [
    "#sans chauvechement\n",
    "modul_3.stock_data('speech_commands_v0.02','dataset','perc',size_w=size_w)\n",
    "modul_3.stock_data('speech_commands_v0.02','dataset','perc',size_w=size_w,apprentissage=False)\n",
    "\n",
    "#avec chauvechement\n",
    "modul_3.stock_data('speech_commands_v0.02','dataset','perc',size_w=size_w,chauvechement=chauvechement)\n",
    "modul_3.stock_data('speech_commands_v0.02','dataset','perc',size_w=size_w,apprentissage=False,chauvechement=chauvechement)"
   ]
  },
  {
   "cell_type": "code",
   "execution_count": null,
   "metadata": {},
   "outputs": [],
   "source": [
    "modul_3.lanch('dataset/segmentation/200','resultat/segmentation/200','harm')"
   ]
  },
  {
   "attachments": {},
   "cell_type": "markdown",
   "metadata": {},
   "source": [
    "### MFCC"
   ]
  },
  {
   "cell_type": "code",
   "execution_count": null,
   "metadata": {},
   "outputs": [],
   "source": [
    "#sans chauvechement\n",
    "modul_3.stock_data('speech_commands_v0.02','dataset','mfcc',size_w=size_w)\n",
    "modul_3.stock_data('speech_commands_v0.02','dataset','mfcc',size_w=size_w,apprentissage=False)\n",
    "\n",
    "#avec chauvechement\n",
    "modul_3.stock_data('speech_commands_v0.02','dataset','mfcc',size_w=size_w,chauvechement=chauvechement)\n",
    "modul_3.stock_data('speech_commands_v0.02','dataset','mfcc',size_w=size_w,apprentissage=False,chauvechement=chauvechement)"
   ]
  },
  {
   "cell_type": "code",
   "execution_count": null,
   "metadata": {},
   "outputs": [],
   "source": [
    "modul_3.lanch('dataset/segmentation/200','resultat/segmentation/200','mfcc')"
   ]
  },
  {
   "attachments": {},
   "cell_type": "markdown",
   "metadata": {},
   "source": [
    "### MELSPEC"
   ]
  },
  {
   "cell_type": "code",
   "execution_count": null,
   "metadata": {},
   "outputs": [],
   "source": [
    "#sans chauvechement\n",
    "modul_3.stock_data('speech_commands_v0.02','dataset','melspec',size_w=size_w)\n",
    "modul_3.stock_data('speech_commands_v0.02','dataset','melspec',size_w=size_w,apprentissage=False)\n",
    "\n",
    "#avec chauvechement\n",
    "modul_3.stock_data('speech_commands_v0.02','dataset','melspec',size_w=size_w,chauvechement=chauvechement)\n",
    "modul_3.stock_data('speech_commands_v0.02','dataset','melspec',size_w=size_w,apprentissage=False,chauvechement=chauvechement)"
   ]
  },
  {
   "cell_type": "code",
   "execution_count": null,
   "metadata": {},
   "outputs": [],
   "source": [
    "modul_3.lanch('dataset/segmentation/200','resultat/segmentation/200','melspec')"
   ]
  },
  {
   "attachments": {},
   "cell_type": "markdown",
   "metadata": {},
   "source": [
    "### Resultat"
   ]
  },
  {
   "cell_type": "code",
   "execution_count": 3,
   "metadata": {},
   "outputs": [
    {
     "data": {
      "text/html": [
       "<div>\n",
       "<style scoped>\n",
       "    .dataframe tbody tr th:only-of-type {\n",
       "        vertical-align: middle;\n",
       "    }\n",
       "\n",
       "    .dataframe tbody tr th {\n",
       "        vertical-align: top;\n",
       "    }\n",
       "\n",
       "    .dataframe thead th {\n",
       "        text-align: right;\n",
       "    }\n",
       "</style>\n",
       "<table border=\"1\" class=\"dataframe\">\n",
       "  <thead>\n",
       "    <tr style=\"text-align: right;\">\n",
       "      <th></th>\n",
       "      <th>representation</th>\n",
       "      <th>modele</th>\n",
       "      <th>chauvechement</th>\n",
       "      <th>score_app</th>\n",
       "      <th>score_test</th>\n",
       "    </tr>\n",
       "  </thead>\n",
       "  <tbody>\n",
       "    <tr>\n",
       "      <th>0</th>\n",
       "      <td>mfcc</td>\n",
       "      <td>knn</td>\n",
       "      <td>non</td>\n",
       "      <td>0.503890</td>\n",
       "      <td>0.223162</td>\n",
       "    </tr>\n",
       "    <tr>\n",
       "      <th>1</th>\n",
       "      <td>mfcc</td>\n",
       "      <td>knn</td>\n",
       "      <td>oui</td>\n",
       "      <td>0.777821</td>\n",
       "      <td>0.317304</td>\n",
       "    </tr>\n",
       "    <tr>\n",
       "      <th>2</th>\n",
       "      <td>mfcc</td>\n",
       "      <td>nb</td>\n",
       "      <td>non</td>\n",
       "      <td>0.177173</td>\n",
       "      <td>0.161876</td>\n",
       "    </tr>\n",
       "    <tr>\n",
       "      <th>3</th>\n",
       "      <td>mfcc</td>\n",
       "      <td>nb</td>\n",
       "      <td>oui</td>\n",
       "      <td>0.204722</td>\n",
       "      <td>0.181879</td>\n",
       "    </tr>\n",
       "    <tr>\n",
       "      <th>4</th>\n",
       "      <td>brute</td>\n",
       "      <td>knn</td>\n",
       "      <td>non</td>\n",
       "      <td>0.270674</td>\n",
       "      <td>0.047579</td>\n",
       "    </tr>\n",
       "    <tr>\n",
       "      <th>5</th>\n",
       "      <td>brute</td>\n",
       "      <td>knn</td>\n",
       "      <td>oui</td>\n",
       "      <td>0.303573</td>\n",
       "      <td>0.054204</td>\n",
       "    </tr>\n",
       "    <tr>\n",
       "      <th>6</th>\n",
       "      <td>brute</td>\n",
       "      <td>nb</td>\n",
       "      <td>non</td>\n",
       "      <td>0.031288</td>\n",
       "      <td>0.030548</td>\n",
       "    </tr>\n",
       "    <tr>\n",
       "      <th>7</th>\n",
       "      <td>brute</td>\n",
       "      <td>nb</td>\n",
       "      <td>oui</td>\n",
       "      <td>0.034117</td>\n",
       "      <td>0.032920</td>\n",
       "    </tr>\n",
       "    <tr>\n",
       "      <th>8</th>\n",
       "      <td>melspec</td>\n",
       "      <td>knn</td>\n",
       "      <td>non</td>\n",
       "      <td>0.339596</td>\n",
       "      <td>0.067571</td>\n",
       "    </tr>\n",
       "    <tr>\n",
       "      <th>9</th>\n",
       "      <td>melspec</td>\n",
       "      <td>knn</td>\n",
       "      <td>oui</td>\n",
       "      <td>0.580466</td>\n",
       "      <td>0.092515</td>\n",
       "    </tr>\n",
       "    <tr>\n",
       "      <th>10</th>\n",
       "      <td>melspec</td>\n",
       "      <td>nb</td>\n",
       "      <td>non</td>\n",
       "      <td>0.038949</td>\n",
       "      <td>0.034046</td>\n",
       "    </tr>\n",
       "    <tr>\n",
       "      <th>11</th>\n",
       "      <td>melspec</td>\n",
       "      <td>nb</td>\n",
       "      <td>oui</td>\n",
       "      <td>0.045125</td>\n",
       "      <td>0.040357</td>\n",
       "    </tr>\n",
       "    <tr>\n",
       "      <th>12</th>\n",
       "      <td>harm</td>\n",
       "      <td>knn</td>\n",
       "      <td>non</td>\n",
       "      <td>0.282067</td>\n",
       "      <td>0.037308</td>\n",
       "    </tr>\n",
       "    <tr>\n",
       "      <th>13</th>\n",
       "      <td>harm</td>\n",
       "      <td>knn</td>\n",
       "      <td>oui</td>\n",
       "      <td>0.484166</td>\n",
       "      <td>0.042277</td>\n",
       "    </tr>\n",
       "    <tr>\n",
       "      <th>14</th>\n",
       "      <td>harm</td>\n",
       "      <td>nb</td>\n",
       "      <td>non</td>\n",
       "      <td>0.031219</td>\n",
       "      <td>0.030724</td>\n",
       "    </tr>\n",
       "    <tr>\n",
       "      <th>15</th>\n",
       "      <td>harm</td>\n",
       "      <td>nb</td>\n",
       "      <td>oui</td>\n",
       "      <td>0.032516</td>\n",
       "      <td>0.029427</td>\n",
       "    </tr>\n",
       "    <tr>\n",
       "      <th>16</th>\n",
       "      <td>perc</td>\n",
       "      <td>knn</td>\n",
       "      <td>non</td>\n",
       "      <td>0.272217</td>\n",
       "      <td>0.043823</td>\n",
       "    </tr>\n",
       "    <tr>\n",
       "      <th>17</th>\n",
       "      <td>perc</td>\n",
       "      <td>knn</td>\n",
       "      <td>oui</td>\n",
       "      <td>0.419023</td>\n",
       "      <td>0.055053</td>\n",
       "    </tr>\n",
       "    <tr>\n",
       "      <th>18</th>\n",
       "      <td>perc</td>\n",
       "      <td>nb</td>\n",
       "      <td>non</td>\n",
       "      <td>0.032655</td>\n",
       "      <td>0.029157</td>\n",
       "    </tr>\n",
       "    <tr>\n",
       "      <th>19</th>\n",
       "      <td>perc</td>\n",
       "      <td>nb</td>\n",
       "      <td>oui</td>\n",
       "      <td>0.030601</td>\n",
       "      <td>0.028952</td>\n",
       "    </tr>\n",
       "  </tbody>\n",
       "</table>\n",
       "</div>"
      ],
      "text/plain": [
       "   representation modele chauvechement  score_app  score_test\n",
       "0            mfcc    knn           non   0.503890    0.223162\n",
       "1            mfcc    knn           oui   0.777821    0.317304\n",
       "2            mfcc     nb           non   0.177173    0.161876\n",
       "3            mfcc     nb           oui   0.204722    0.181879\n",
       "4           brute    knn           non   0.270674    0.047579\n",
       "5           brute    knn           oui   0.303573    0.054204\n",
       "6           brute     nb           non   0.031288    0.030548\n",
       "7           brute     nb           oui   0.034117    0.032920\n",
       "8         melspec    knn           non   0.339596    0.067571\n",
       "9         melspec    knn           oui   0.580466    0.092515\n",
       "10        melspec     nb           non   0.038949    0.034046\n",
       "11        melspec     nb           oui   0.045125    0.040357\n",
       "12           harm    knn           non   0.282067    0.037308\n",
       "13           harm    knn           oui   0.484166    0.042277\n",
       "14           harm     nb           non   0.031219    0.030724\n",
       "15           harm     nb           oui   0.032516    0.029427\n",
       "16           perc    knn           non   0.272217    0.043823\n",
       "17           perc    knn           oui   0.419023    0.055053\n",
       "18           perc     nb           non   0.032655    0.029157\n",
       "19           perc     nb           oui   0.030601    0.028952"
      ]
     },
     "execution_count": 3,
     "metadata": {},
     "output_type": "execute_result"
    }
   ],
   "source": [
    "modul_3.affichage('200')"
   ]
  }
 ],
 "metadata": {
  "kernelspec": {
   "display_name": "Python 3",
   "language": "python",
   "name": "python3"
  },
  "language_info": {
   "codemirror_mode": {
    "name": "ipython",
    "version": 3
   },
   "file_extension": ".py",
   "mimetype": "text/x-python",
   "name": "python",
   "nbconvert_exporter": "python",
   "pygments_lexer": "ipython3",
   "version": "3.8.10"
  },
  "orig_nbformat": 4
 },
 "nbformat": 4,
 "nbformat_minor": 2
}
