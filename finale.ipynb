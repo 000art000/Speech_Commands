{
 "cells": [
  {
   "cell_type": "code",
   "execution_count": 1,
   "metadata": {},
   "outputs": [],
   "source": [
    "import os \n",
    "from sklearn.neighbors import KNeighborsClassifier\n",
    "from sklearn.ensemble import AdaBoostClassifier\n",
    "import numpy as np\n",
    "from sklearn.model_selection import StratifiedKFold\n",
    "from sklearn.model_selection import GridSearchCV\n",
    "\n",
    "\n",
    "import sys\n",
    "sys.path.append('./src')\n",
    "\n",
    "import approche_1_2 as modul_1\n",
    "import segmentation as modul_3"
   ]
  },
  {
   "attachments": {},
   "cell_type": "markdown",
   "metadata": {},
   "source": [
    "# verifier la repartition des claas "
   ]
  },
  {
   "cell_type": "code",
   "execution_count": 2,
   "metadata": {},
   "outputs": [],
   "source": [
    "# foction pour voir la repartition des class a l'apprentissage\n",
    "def repartition(path_file,data_path):\n",
    "    c={}\n",
    "    l=[]\n",
    "    tot=0\n",
    "    with open(path_file,'r') as fd :\n",
    "        for line in fd :\n",
    "            label=line.split('/')[0]\n",
    "            if not c.get(label):\n",
    "                c[label]=0\n",
    "            c[label]+=1\n",
    "            tot+=1\n",
    "        \n",
    "    for rep in os.listdir(data_path):\n",
    "        if os.path.isdir(rep) and rep!='_background_noise_' and c.get(rep)==0:\n",
    "            l.append(rep)\n",
    "\n",
    "    return c,l,tot\n"
   ]
  },
  {
   "cell_type": "code",
   "execution_count": 4,
   "metadata": {},
   "outputs": [],
   "source": [
    "c,l,tot=repartition('speech_commands_v0.02/validation_list.txt','speech_commands_v0.02')"
   ]
  },
  {
   "cell_type": "code",
   "execution_count": 5,
   "metadata": {},
   "outputs": [
    {
     "data": {
      "text/plain": [
       "([],\n",
       " {'right': 363,\n",
       "  'eight': 346,\n",
       "  'cat': 180,\n",
       "  'tree': 159,\n",
       "  'backward': 153,\n",
       "  'learn': 128,\n",
       "  'bed': 213,\n",
       "  'happy': 219,\n",
       "  'go': 372,\n",
       "  'dog': 197,\n",
       "  'no': 406,\n",
       "  'wow': 193,\n",
       "  'follow': 132,\n",
       "  'nine': 356,\n",
       "  'left': 352,\n",
       "  'stop': 350,\n",
       "  'three': 356,\n",
       "  'sheila': 204,\n",
       "  'one': 351,\n",
       "  'bird': 182,\n",
       "  'zero': 384,\n",
       "  'seven': 387,\n",
       "  'up': 350,\n",
       "  'visual': 139,\n",
       "  'marvin': 195,\n",
       "  'two': 345,\n",
       "  'house': 195,\n",
       "  'down': 377,\n",
       "  'six': 378,\n",
       "  'yes': 397,\n",
       "  'on': 363,\n",
       "  'five': 367,\n",
       "  'forward': 146,\n",
       "  'off': 373,\n",
       "  'four': 373})"
      ]
     },
     "execution_count": 5,
     "metadata": {},
     "output_type": "execute_result"
    }
   ],
   "source": [
    "l,c"
   ]
  },
  {
   "attachments": {},
   "cell_type": "markdown",
   "metadata": {},
   "source": [
    "# premier approche (remlissage)"
   ]
  },
  {
   "attachments": {},
   "cell_type": "markdown",
   "metadata": {},
   "source": [
    "    elle consiste a rajouter remplire les signal par des valeur il y'a 2 approche dans cette dernier on a opter pour remplire par des 0 les signal qui ont une longueur plus petit que la taille max\n",
    "    \n",
    "    l'autre approche comme les signal sont echantilloné donc dans le systeme temporel il doivent etre non fini et circulere(exeample sinus,cos) pour qu'il peut etre fini dans le systeme frequentiel et admis un frequence max et peut etre echantiloné correctemet d'apres le theoreme de shanone la frequence d'enchentillonage >= 2* f_max ce qui implique a faire du padding circulaire dans le systeme temporale (rajouter le signal en boucle a la fin du signal tant que il est plus petit du signal max)"
   ]
  },
  {
   "attachments": {},
   "cell_type": "markdown",
   "metadata": {},
   "source": [
    "### BRUTE"
   ]
  },
  {
   "cell_type": "code",
   "execution_count": null,
   "metadata": {},
   "outputs": [],
   "source": [
    "modul_1.stock_data('speech_commands_v0.02','dataset','brute')"
   ]
  },
  {
   "cell_type": "code",
   "execution_count": null,
   "metadata": {},
   "outputs": [],
   "source": [
    "modul_1.stock_data('speech_commands_v0.02','dataset','brute',apprentissage=False)"
   ]
  },
  {
   "cell_type": "code",
   "execution_count": 3,
   "metadata": {},
   "outputs": [],
   "source": [
    "x_train,y_train=modul_1.load_data('dataset','brute')\n",
    "x_test,y_test=modul_1.load_data('dataset','brute',apprentissage=False)"
   ]
  },
  {
   "attachments": {},
   "cell_type": "markdown",
   "metadata": {},
   "source": [
    "#### Knn"
   ]
  },
  {
   "cell_type": "code",
   "execution_count": 7,
   "metadata": {},
   "outputs": [],
   "source": [
    "knn_brute=KNeighborsClassifier(n_jobs=-1)\n",
    "parameters=[\n",
    "    {'weights':['distance'],\n",
    "     'n_neighbors': np.arange(5,30,1)\n",
    "    }\n",
    "]\n",
    "#utilisé stratifiedkfold pour avoir une bonne repartition \n",
    "skf = StratifiedKFold(n_splits=5, shuffle=True, random_state=1)\n",
    "grid = GridSearchCV(knn_brute, parameters,cv=skf)\n",
    "\n",
    "modul_1.learning(grid,'resultat','brute',x_train,y_train,x_test,y_test,'knn')"
   ]
  },
  {
   "attachments": {},
   "cell_type": "markdown",
   "metadata": {},
   "source": [
    "#### adabost"
   ]
  },
  {
   "cell_type": "code",
   "execution_count": null,
   "metadata": {},
   "outputs": [],
   "source": [
    "adabos=AdaBoostClassifier( random_state=0)\n",
    "\n",
    "parameters_ada={\n",
    "     'n_estimators': np.arange(50,150,20)\n",
    "    }\n",
    "skf = StratifiedKFold(n_splits=5, shuffle=True, random_state=1)\n",
    "gird_adabos = GridSearchCV(adabos, parameters_ada,cv=skf,scoring='balanced_accuracy')\n",
    "\n",
    "modul_1.learning(grid,'resultat','brute',x_train,y_train,x_test,y_test,'adabost')"
   ]
  },
  {
   "cell_type": "code",
   "execution_count": null,
   "metadata": {},
   "outputs": [],
   "source": [
    "# to do\n",
    "# toutes les representation a executer avec knn et adaboqt et meme celle de brute"
   ]
  },
  {
   "attachments": {},
   "cell_type": "markdown",
   "metadata": {},
   "source": [
    "# 2eme aproche (remise a l'echelle par supression)"
   ]
  },
  {
   "attachments": {},
   "cell_type": "markdown",
   "metadata": {},
   "source": [
    "    elle consiste a mettre les signal a la taille du plus petit signal "
   ]
  },
  {
   "attachments": {},
   "cell_type": "markdown",
   "metadata": {},
   "source": [
    "### BRUTE"
   ]
  },
  {
   "cell_type": "code",
   "execution_count": null,
   "metadata": {},
   "outputs": [],
   "source": [
    "modul_1.stock_data('speech_commands_v0.02','dataset','brute',approche=False)"
   ]
  },
  {
   "cell_type": "code",
   "execution_count": 2,
   "metadata": {},
   "outputs": [],
   "source": [
    "modul_1.stock_data('speech_commands_v0.02','dataset','brute',apprentissage=False,approche=False)"
   ]
  },
  {
   "cell_type": "code",
   "execution_count": 7,
   "metadata": {},
   "outputs": [],
   "source": [
    "x_train,y_train=modul_1.load_data('dataset','brute',approche=False)\n",
    "x_test,y_test=modul_1.load_data('dataset','brute',apprentissage=False,approche=False)"
   ]
  },
  {
   "attachments": {},
   "cell_type": "markdown",
   "metadata": {},
   "source": [
    "#### knn"
   ]
  },
  {
   "cell_type": "code",
   "execution_count": 5,
   "metadata": {},
   "outputs": [],
   "source": [
    "knn_brute=KNeighborsClassifier(n_jobs=-1)\n",
    "parameters=[\n",
    "    {'weights':['distance'],\n",
    "     'n_neighbors': np.arange(5,30,1)\n",
    "    }\n",
    "]\n",
    "#utilisé stratifiedkfold pour avoir une bonne repartition \n",
    "skf = StratifiedKFold(n_splits=5, shuffle=True, random_state=1)\n",
    "grid = GridSearchCV(knn_brute, parameters,cv=skf)\n",
    "\n",
    "modul_1.learning(grid,'resultat','brute',x_train,y_train,x_test,y_test,'knn',approche='min')"
   ]
  },
  {
   "attachments": {},
   "cell_type": "markdown",
   "metadata": {},
   "source": [
    "#### adabost"
   ]
  },
  {
   "cell_type": "code",
   "execution_count": null,
   "metadata": {},
   "outputs": [],
   "source": [
    "adabos=AdaBoostClassifier( random_state=0)\n",
    "\n",
    "parameters_ada={\n",
    "     'n_estimators': np.arrange(50,150,20)\n",
    "    }\n",
    "skf = StratifiedKFold(n_splits=5, shuffle=True, random_state=1)\n",
    "gird_adabos = GridSearchCV(adabos, parameters_ada,cv=skf,scoring='balanced_accuracy')\n",
    "\n",
    "modul_1.learning(grid,'resultat','brute',x_train,y_train,x_test,y_test,'adabost')"
   ]
  },
  {
   "cell_type": "code",
   "execution_count": null,
   "metadata": {},
   "outputs": [],
   "source": [
    "# to do \n",
    "# def representation avec brute aussi c'etait un example"
   ]
  },
  {
   "attachments": {},
   "cell_type": "markdown",
   "metadata": {},
   "source": [
    "# 3eme aproche (segmentation)"
   ]
  },
  {
   "attachments": {},
   "cell_type": "markdown",
   "metadata": {},
   "source": [
    "#### segmentation (fenetre 500 , taille chavechement 200)"
   ]
  },
  {
   "cell_type": "code",
   "execution_count": 4,
   "metadata": {},
   "outputs": [],
   "source": [
    "size_w,chauvechement=500,200"
   ]
  },
  {
   "attachments": {},
   "cell_type": "markdown",
   "metadata": {},
   "source": [
    "#### BRUTE"
   ]
  },
  {
   "cell_type": "code",
   "execution_count": 2,
   "metadata": {},
   "outputs": [],
   "source": [
    "#sans chauvechement\n",
    "modul_3.stock_data('speech_commands_v0.02','dataset','brute',size_w=size_w)\n",
    "modul_3.stock_data('speech_commands_v0.02','dataset','brute',size_w=size_w,apprentissage=False)"
   ]
  },
  {
   "cell_type": "code",
   "execution_count": null,
   "metadata": {},
   "outputs": [],
   "source": [
    "#avec chauvechement\n",
    "modul_3.stock_data('speech_commands_v0.02','dataset','brute',size_w=size_w,chauvechement=chauvechement)\n",
    "modul_3.stock_data('speech_commands_v0.02','dataset','brute',size_w=size_w,apprentissage=False,chauvechement=chauvechement)"
   ]
  },
  {
   "cell_type": "code",
   "execution_count": 2,
   "metadata": {},
   "outputs": [
    {
     "name": "stdout",
     "output_type": "stream",
     "text": [
      "fit\n",
      "prediction\n",
      "prediction done\n",
      "fit\n",
      "prediction\n",
      "prediction done\n"
     ]
    }
   ],
   "source": [
    "modul_3.lanch('dataset/segmentation/500','resultat/segmentation/500','brute')"
   ]
  },
  {
   "attachments": {},
   "cell_type": "markdown",
   "metadata": {},
   "source": [
    "### HARM"
   ]
  },
  {
   "cell_type": "code",
   "execution_count": 5,
   "metadata": {},
   "outputs": [],
   "source": [
    "#sans chauvechement\n",
    "modul_3.stock_data('speech_commands_v0.02','dataset','harm',size_w=size_w)\n",
    "modul_3.stock_data('speech_commands_v0.02','dataset','harm',size_w=size_w,apprentissage=False)"
   ]
  },
  {
   "cell_type": "code",
   "execution_count": 6,
   "metadata": {},
   "outputs": [],
   "source": [
    "#sans chauvechement\n",
    "modul_3.stock_data('speech_commands_v0.02','dataset','harm',size_w=size_w,chauvechement=chauvechement)\n",
    "modul_3.stock_data('speech_commands_v0.02','dataset','harm',size_w=size_w,apprentissage=False,chauvechement=chauvechement)"
   ]
  },
  {
   "cell_type": "code",
   "execution_count": 2,
   "metadata": {},
   "outputs": [
    {
     "name": "stdout",
     "output_type": "stream",
     "text": [
      "fit\n",
      "prediction\n",
      "prediction done\n",
      "fit\n",
      "prediction\n",
      "prediction done\n",
      "fit\n",
      "prediction\n",
      "prediction done\n",
      "fit\n",
      "prediction\n",
      "prediction done\n"
     ]
    }
   ],
   "source": [
    "modul_3.lanch('dataset/segmentation/500','resultat/segmentation/500','harm')"
   ]
  },
  {
   "attachments": {},
   "cell_type": "markdown",
   "metadata": {},
   "source": [
    "### PERS"
   ]
  },
  {
   "cell_type": "code",
   "execution_count": 6,
   "metadata": {},
   "outputs": [],
   "source": [
    "#sans chauvechement\n",
    "modul_3.stock_data('speech_commands_v0.02','dataset','pers',size_w=size_w)\n",
    "modul_3.stock_data('speech_commands_v0.02','dataset','pers',size_w=size_w,apprentissage=False)"
   ]
  },
  {
   "cell_type": "code",
   "execution_count": 7,
   "metadata": {},
   "outputs": [],
   "source": [
    "#sans chauvechement\n",
    "modul_3.stock_data('speech_commands_v0.02','dataset','pers',size_w=size_w,chauvechement=chauvechement)\n",
    "modul_3.stock_data('speech_commands_v0.02','dataset','pers',size_w=size_w,apprentissage=False,chauvechement=chauvechement)"
   ]
  },
  {
   "cell_type": "code",
   "execution_count": 8,
   "metadata": {},
   "outputs": [
    {
     "name": "stdout",
     "output_type": "stream",
     "text": [
      "fit\n",
      "prediction\n",
      "prediction done\n",
      "fit\n"
     ]
    }
   ],
   "source": [
    "modul_3.lanch('dataset/segmentation/500','resultat/segmentation/500','pers')"
   ]
  }
 ],
 "metadata": {
  "kernelspec": {
   "display_name": "Python 3",
   "language": "python",
   "name": "python3"
  },
  "language_info": {
   "codemirror_mode": {
    "name": "ipython",
    "version": 3
   },
   "file_extension": ".py",
   "mimetype": "text/x-python",
   "name": "python",
   "nbconvert_exporter": "python",
   "pygments_lexer": "ipython3",
   "version": "3.8.10"
  },
  "orig_nbformat": 4
 },
 "nbformat": 4,
 "nbformat_minor": 2
}
